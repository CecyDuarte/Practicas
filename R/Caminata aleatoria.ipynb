{
 "cells": [
  {
   "cell_type": "markdown",
   "id": "4816fc89",
   "metadata": {},
   "source": [
    "# Caminata Aleatoria."
   ]
  },
  {
   "cell_type": "code",
   "execution_count": 1,
   "id": "01c3c921",
   "metadata": {},
   "outputs": [
    {
     "name": "stderr",
     "output_type": "stream",
     "text": [
      "Loading required package: xts\n",
      "\n",
      "Warning message:\n",
      "\"package 'xts' was built under R version 3.6.3\"\n",
      "Loading required package: zoo\n",
      "\n",
      "Warning message:\n",
      "\"package 'zoo' was built under R version 3.6.3\"\n",
      "\n",
      "Attaching package: 'zoo'\n",
      "\n",
      "\n",
      "The following objects are masked from 'package:base':\n",
      "\n",
      "    as.Date, as.Date.numeric\n",
      "\n",
      "\n",
      "Loading required package: TTR\n",
      "\n",
      "Warning message:\n",
      "\"package 'TTR' was built under R version 3.6.3\"\n",
      "Registered S3 method overwritten by 'quantmod':\n",
      "  method            from\n",
      "  as.zoo.data.frame zoo \n",
      "\n",
      "Warning message:\n",
      "\"package 'tseries' was built under R version 3.6.3\"\n",
      "Registered S3 methods overwritten by 'forecast':\n",
      "  method             from    \n",
      "  fitted.fracdiff    fracdiff\n",
      "  residuals.fracdiff fracdiff\n",
      "\n",
      "Registered S3 methods overwritten by 'TSA':\n",
      "  method       from    \n",
      "  fitted.Arima forecast\n",
      "  plot.Arima   forecast\n",
      "\n",
      "\n",
      "Attaching package: 'TSA'\n",
      "\n",
      "\n",
      "The following objects are masked from 'package:stats':\n",
      "\n",
      "    acf, arima\n",
      "\n",
      "\n",
      "The following object is masked from 'package:utils':\n",
      "\n",
      "    tar\n",
      "\n",
      "\n"
     ]
    }
   ],
   "source": [
    "library(quantmod)\n",
    "library(tseries)\n",
    "library(forecast)\n",
    "library(TSA)\n",
    "library(Quandl)"
   ]
  },
  {
   "cell_type": "markdown",
   "id": "de465c8c",
   "metadata": {},
   "source": [
    "## Bases"
   ]
  },
  {
   "cell_type": "code",
   "execution_count": 2,
   "id": "a2768b2f",
   "metadata": {},
   "outputs": [
    {
     "data": {
      "text/html": [
       "'INDPRO'"
      ],
      "text/latex": [
       "'INDPRO'"
      ],
      "text/markdown": [
       "'INDPRO'"
      ],
      "text/plain": [
       "[1] \"INDPRO\""
      ]
     },
     "metadata": {},
     "output_type": "display_data"
    },
    {
     "data": {
      "text/html": [
       "'UMCSENT'"
      ],
      "text/latex": [
       "'UMCSENT'"
      ],
      "text/markdown": [
       "'UMCSENT'"
      ],
      "text/plain": [
       "[1] \"UMCSENT\""
      ]
     },
     "metadata": {},
     "output_type": "display_data"
    },
    {
     "data": {
      "text/html": [
       "'FEDFUNDS'"
      ],
      "text/latex": [
       "'FEDFUNDS'"
      ],
      "text/markdown": [
       "'FEDFUNDS'"
      ],
      "text/plain": [
       "[1] \"FEDFUNDS\""
      ]
     },
     "metadata": {},
     "output_type": "display_data"
    },
    {
     "data": {
      "text/html": [
       "'CCRETT01USM661N'"
      ],
      "text/latex": [
       "'CCRETT01USM661N'"
      ],
      "text/markdown": [
       "'CCRETT01USM661N'"
      ],
      "text/plain": [
       "[1] \"CCRETT01USM661N\""
      ]
     },
     "metadata": {},
     "output_type": "display_data"
    },
    {
     "data": {
      "text/html": [
       "'M2NS'"
      ],
      "text/latex": [
       "'M2NS'"
      ],
      "text/markdown": [
       "'M2NS'"
      ],
      "text/plain": [
       "[1] \"M2NS\""
      ]
     },
     "metadata": {},
     "output_type": "display_data"
    },
    {
     "data": {
      "text/html": [
       "'PAYEMS'"
      ],
      "text/latex": [
       "'PAYEMS'"
      ],
      "text/markdown": [
       "'PAYEMS'"
      ],
      "text/plain": [
       "[1] \"PAYEMS\""
      ]
     },
     "metadata": {},
     "output_type": "display_data"
    },
    {
     "data": {
      "text/html": [
       "'BOPGSTB'"
      ],
      "text/latex": [
       "'BOPGSTB'"
      ],
      "text/markdown": [
       "'BOPGSTB'"
      ],
      "text/plain": [
       "[1] \"BOPGSTB\""
      ]
     },
     "metadata": {},
     "output_type": "display_data"
    },
    {
     "data": {
      "text/html": [
       "'EXUSUK'"
      ],
      "text/latex": [
       "'EXUSUK'"
      ],
      "text/markdown": [
       "'EXUSUK'"
      ],
      "text/plain": [
       "[1] \"EXUSUK\""
      ]
     },
     "metadata": {},
     "output_type": "display_data"
    }
   ],
   "source": [
    "getSymbols(\"INDPRO\",src=\"FRED\")  #Industrial Production Index\n",
    "getSymbols(\"UMCSENT\",src=\"FRED\") #University of Michigan: Consumer Sentiment\n",
    "getSymbols(\"FEDFUNDS\",src=\"FRED\") #tasa interes fondos federales\n",
    "getSymbols(\"CCRETT01USM661N\",src=\"FRED\") #Tipo de cambio efectivo IPC\n",
    "getSymbols(\"M2NS\",src=\"FRED\")     #Stock de dinero M2\n",
    "getSymbols(\"PAYEMS\",src=\"FRED\")   # Des trabajadores no rurales\n",
    "getSymbols(\"BOPGSTB\",src=\"FRED\")  #Balance cuenta, Diferencia entre exp e imp\n",
    "getSymbols(\"EXUSUK\",src=\"FRED\")   #GBP mensual"
   ]
  },
  {
   "cell_type": "code",
   "execution_count": 3,
   "id": "aa1fe3ae",
   "metadata": {},
   "outputs": [
    {
     "data": {
      "image/png": "[encoded data removed]",
      "text/plain": [
       "plot without title"
      ]
     },
     "metadata": {
      "image/png": {
       "height": 420,
       "width": 420
      }
     },
     "output_type": "display_data"
    },
    {
     "data": {
      "image/png": "[encoded data removed]",
      "text/plain": [
       "plot without title"
      ]
     },
     "metadata": {
      "image/png": {
       "height": 420,
       "width": 420
      }
     },
     "output_type": "display_data"
    }
   ],
   "source": [
    "plot(EXUSUK,type=\"l\")\n",
    "plot(M2NS,type=\"l\")"
   ]
  },
  {
   "cell_type": "markdown",
   "id": "d7c24fec",
   "metadata": {},
   "source": [
    "### Diferenciación"
   ]
  },
  {
   "cell_type": "markdown",
   "id": "86a3b066",
   "metadata": {},
   "source": [
    "*Al ser una serie no estacionaria, se hace la diferenciación para que sea estacionaria "
   ]
  },
  {
   "cell_type": "code",
   "execution_count": 4,
   "id": "643ec397",
   "metadata": {},
   "outputs": [
    {
     "data": {
      "image/png": "[encoded data removed]",
      "text/plain": [
       "plot without title"
      ]
     },
     "metadata": {
      "image/png": {
       "height": 420,
       "width": 420
      }
     },
     "output_type": "display_data"
    }
   ],
   "source": [
    "GBP_diff <- na.omit(diff(EXUSUK))\n",
    "plot(GBP_diff,type=\"l\",main =\"Serie EXUSUK Diferenciada\")"
   ]
  },
  {
   "cell_type": "markdown",
   "id": "94e880f4",
   "metadata": {},
   "source": [
    "**Nota:** Aquí se observa como quedaron los datos con el ruido blanco, donde éstos se encuentras alrededor de 0."
   ]
  },
  {
   "cell_type": "markdown",
   "id": "51163e1b",
   "metadata": {},
   "source": [
    "## Simulación de caminata aleatoria sin deriva"
   ]
  },
  {
   "cell_type": "code",
   "execution_count": 5,
   "id": "47f939d1",
   "metadata": {},
   "outputs": [],
   "source": [
    "Caminataleatoria <- arima.sim(model= list(order = c(0, 1, 0)), n=200)"
   ]
  },
  {
   "cell_type": "code",
   "execution_count": 6,
   "id": "551baeb9",
   "metadata": {},
   "outputs": [
    {
     "data": {
      "image/png": "[encoded data removed]",
      "text/plain": [
       "Plot with title \"Caminata Aleatoria sin deriva\""
      ]
     },
     "metadata": {
      "image/png": {
       "height": 420,
       "width": 420
      }
     },
     "output_type": "display_data"
    }
   ],
   "source": [
    "plot.ts(Caminataleatoria,main=\"Caminata Aleatoria sin deriva\", col=4)"
   ]
  },
  {
   "cell_type": "markdown",
   "id": "9891f819",
   "metadata": {},
   "source": [
    "**Estacionariedad**"
   ]
  },
  {
   "cell_type": "code",
   "execution_count": 7,
   "id": "dcef2a9a",
   "metadata": {},
   "outputs": [],
   "source": [
    "Caminataleatoria_diff <- diff(Caminataleatoria)"
   ]
  },
  {
   "cell_type": "code",
   "execution_count": 8,
   "id": "a0dfe61e",
   "metadata": {},
   "outputs": [
    {
     "data": {
      "image/png": "[encoded data removed]",
      "text/plain": [
       "plot without title"
      ]
     },
     "metadata": {
      "image/png": {
       "height": 420,
       "width": 420
      }
     },
     "output_type": "display_data"
    }
   ],
   "source": [
    "plot(Caminataleatoria_diff,type=\"l\")"
   ]
  },
  {
   "cell_type": "code",
   "execution_count": 9,
   "id": "6e73b82e",
   "metadata": {},
   "outputs": [
    {
     "data": {
      "text/html": [
       "0.0273798656532589"
      ],
      "text/latex": [
       "0.0273798656532589"
      ],
      "text/markdown": [
       "0.0273798656532589"
      ],
      "text/plain": [
       "[1] 0.02737987"
      ]
     },
     "metadata": {},
     "output_type": "display_data"
    },
    {
     "data": {
      "text/html": [
       "1.03352264818972"
      ],
      "text/latex": [
       "1.03352264818972"
      ],
      "text/markdown": [
       "1.03352264818972"
      ],
      "text/plain": [
       "[1] 1.033523"
      ]
     },
     "metadata": {},
     "output_type": "display_data"
    }
   ],
   "source": [
    "mean(Caminataleatoria_diff)\n",
    "sd(Caminataleatoria_diff)"
   ]
  },
  {
   "cell_type": "markdown",
   "id": "269e4473",
   "metadata": {},
   "source": [
    "## Simulación de caminata aleatoria con deriva"
   ]
  },
  {
   "cell_type": "code",
   "execution_count": 10,
   "id": "f87884a6",
   "metadata": {},
   "outputs": [
    {
     "data": {
      "image/png": "[encoded data removed]",
      "text/plain": [
       "Plot with title \"Caminata Aleatoria con deriva\""
      ]
     },
     "metadata": {
      "image/png": {
       "height": 420,
       "width": 420
      }
     },
     "output_type": "display_data"
    }
   ],
   "source": [
    "Caminataleatoria_deriva <- arima.sim(model= list(order = c(0, 1, 0)), n=200, mean=1,sd=5)\n",
    "plot.ts(Caminataleatoria_deriva, main=\"Caminata Aleatoria con deriva\")"
   ]
  },
  {
   "cell_type": "markdown",
   "id": "57bdc9c0",
   "metadata": {},
   "source": [
    "### 1.Diferenciación 1er orden "
   ]
  },
  {
   "cell_type": "code",
   "execution_count": 11,
   "id": "58451a9b",
   "metadata": {},
   "outputs": [],
   "source": [
    "Caminataleatoria_deriva_diff <-diff(Caminataleatoria_deriva)"
   ]
  },
  {
   "cell_type": "code",
   "execution_count": 12,
   "id": "e6426dfa",
   "metadata": {},
   "outputs": [
    {
     "data": {
      "image/png": "[encoded data removed]",
      "text/plain": [
       "Plot with title \"Diferenciación 1er orden\""
      ]
     },
     "metadata": {
      "image/png": {
       "height": 420,
       "width": 420
      }
     },
     "output_type": "display_data"
    }
   ],
   "source": [
    "plot.ts(Caminataleatoria_deriva_diff, col=4, main=\"Diferenciación 1er orden\")"
   ]
  },
  {
   "cell_type": "markdown",
   "id": "01d8b000",
   "metadata": {},
   "source": [
    "### 2.Ruido blanco"
   ]
  },
  {
   "cell_type": "code",
   "execution_count": 13,
   "id": "fffa3626",
   "metadata": {},
   "outputs": [
    {
     "data": {
      "text/plain": [
       "\n",
       "Call:\n",
       "arima(x = Caminataleatoria_deriva_diff, order = c(0, 0, 0))\n",
       "\n",
       "Coefficients:\n",
       "      intercept\n",
       "         1.0494\n",
       "s.e.     0.3689\n",
       "\n",
       "sigma^2 estimated as 27.22:  log likelihood = -614.18,  aic = 1230.37"
      ]
     },
     "metadata": {},
     "output_type": "display_data"
    }
   ],
   "source": [
    "ruido_blanco <- arima(Caminataleatoria_deriva_diff, order = c(0, 0, 0))\n",
    "ruido_blanco"
   ]
  },
  {
   "cell_type": "markdown",
   "id": "955a5620",
   "metadata": {},
   "source": [
    "### 3. Grafico Original con tendencia estimada"
   ]
  },
  {
   "cell_type": "code",
   "execution_count": 14,
   "id": "9d868db8",
   "metadata": {},
   "outputs": [
    {
     "data": {
      "text/html": [
       "<strong>intercept:</strong> 1.0493958920899"
      ],
      "text/latex": [
       "\\textbf{intercept:} 1.0493958920899"
      ],
      "text/markdown": [
       "**intercept:** 1.0493958920899"
      ],
      "text/plain": [
       "intercept \n",
       " 1.049396 "
      ]
     },
     "metadata": {},
     "output_type": "display_data"
    },
    {
     "data": {
      "image/png": "[encoded data removed]",
      "text/plain": [
       "Plot with title \"Caminata Aleatoria con deriva\""
      ]
     },
     "metadata": {
      "image/png": {
       "height": 420,
       "width": 420
      }
     },
     "output_type": "display_data"
    }
   ],
   "source": [
    "plot.ts(Caminataleatoria_deriva_diff,col=4, main=\"Caminata Aleatoria con deriva\")\n",
    "abline(0, ruido_blanco$coef,col=2)\n",
    "\n",
    "ruido_blanco$coef"
   ]
  },
  {
   "cell_type": "code",
   "execution_count": null,
   "id": "fec4431a",
   "metadata": {},
   "outputs": [],
   "source": []
  }
 ],
 "metadata": {
  "kernelspec": {
   "display_name": "R",
   "language": "R",
   "name": "ir"
  },
  "language_info": {
   "codemirror_mode": "r",
   "file_extension": ".r",
   "mimetype": "text/x-r-source",
   "name": "R",
   "pygments_lexer": "r",
   "version": "3.6.1"
  }
 },
 "nbformat": 4,
 "nbformat_minor": 5
}

{
 "cells": [
  {
   "cell_type": "code",
   "execution_count": 1,
   "id": "e73ec4dd",
   "metadata": {},
   "outputs": [],
   "source": [
    "from scipy.optimize import linprog"
   ]
  },
  {
   "cell_type": "markdown",
   "id": "7a12ab72",
   "metadata": {},
   "source": [
    "# Minimizar Función objetivo"
   ]
  },
  {
   "cell_type": "markdown",
   "id": "5f6e88aa",
   "metadata": {},
   "source": [
    "## Ejercicio 1."
   ]
  },
  {
   "cell_type": "markdown",
   "id": "5408820f",
   "metadata": {},
   "source": [
    "<**Función objetivo:** f(x)= 70x1+80x2+85x3"
   ]
  },
  {
   "cell_type": "code",
   "execution_count": 10,
   "id": "08c656a9",
   "metadata": {},
   "outputs": [],
   "source": [
    "c=[70, 80, 85] "
   ]
  },
  {
   "cell_type": "markdown",
   "id": "96cc479b",
   "metadata": {},
   "source": [
    "**Restricciones:**\n",
    "\n",
    "    *  x1+x2+x3=999\n",
    "    *  x1+4x2+8x3<=4500\n",
    "    *  40x1+30x2+20x3<=36000   \n",
    "    *  3x1+2x2+4x3<=2700 \n",
    "    *  x>=0"
   ]
  },
  {
   "cell_type": "markdown",
   "id": "c1ace91b",
   "metadata": {},
   "source": [
    "*Desiguldades*"
   ]
  },
  {
   "cell_type": "code",
   "execution_count": 11,
   "id": "c2b67c70",
   "metadata": {},
   "outputs": [],
   "source": [
    "A_ub=[[1,4,8],[40,30,20],[3,2,4]]# doble corchete porque es una matriz las desigualdades"
   ]
  },
  {
   "cell_type": "markdown",
   "id": "7f6f1180",
   "metadata": {},
   "source": [
    "*Vector solución*"
   ]
  },
  {
   "cell_type": "code",
   "execution_count": 12,
   "id": "feeee019",
   "metadata": {},
   "outputs": [],
   "source": [
    "b_ub=[4500, 36000, 2700]"
   ]
  },
  {
   "cell_type": "markdown",
   "id": "ccebb638",
   "metadata": {},
   "source": [
    "*Ecuación*"
   ]
  },
  {
   "cell_type": "code",
   "execution_count": 13,
   "id": "9022a334",
   "metadata": {},
   "outputs": [],
   "source": [
    "A_eq=[[1,1,1]]"
   ]
  },
  {
   "cell_type": "markdown",
   "id": "b8720abb",
   "metadata": {},
   "source": [
    "*Resultado de ecuación*"
   ]
  },
  {
   "cell_type": "code",
   "execution_count": 14,
   "id": "2050744a",
   "metadata": {},
   "outputs": [],
   "source": [
    "b_eq=[999]"
   ]
  },
  {
   "cell_type": "markdown",
   "id": "1eddb0ae",
   "metadata": {},
   "source": [
    "**Resolución de minimizar la función objetivo**"
   ]
  },
  {
   "cell_type": "code",
   "execution_count": 15,
   "id": "9ea9b9c4",
   "metadata": {},
   "outputs": [],
   "source": [
    "res=linprog(c, A_ub, b_ub, A_eq, b_eq, bounds=(0, None)) # el de bounds hace que los valores vayan de 0 hasta infinito"
   ]
  },
  {
   "cell_type": "code",
   "execution_count": 16,
   "id": "d88e4fe4",
   "metadata": {},
   "outputs": [
    {
     "data": {
      "text/plain": [
       "     con: array([0.00013959])\n",
       "     fun: 73724.98976093203\n",
       " message: 'Optimization terminated successfully.'\n",
       "     nit: 7\n",
       "   slack: array([2.28000029e+03, 5.10509717e-03, 3.77499257e-04])\n",
       "  status: 0\n",
       " success: True\n",
       "       x: array([635.99990607, 329.99995653,  32.99999781])"
      ]
     },
     "execution_count": 16,
     "metadata": {},
     "output_type": "execute_result"
    }
   ],
   "source": [
    "res"
   ]
  },
  {
   "cell_type": "code",
   "execution_count": 17,
   "id": "10df6bdb",
   "metadata": {},
   "outputs": [
    {
     "name": "stdout",
     "output_type": "stream",
     "text": [
      "Valor optimo:  73724.98976093203 \n",
      "X:  [635.99990607 329.99995653  32.99999781]\n"
     ]
    }
   ],
   "source": [
    "print(\"Valor optimo: \", res.fun, \"\\nX: \",res.x)"
   ]
  },
  {
   "cell_type": "markdown",
   "id": "be2a8aea",
   "metadata": {},
   "source": [
    "## Ejercicio 2."
   ]
  },
  {
   "cell_type": "markdown",
   "id": "65ef81b4",
   "metadata": {},
   "source": [
    "**Función objetivo:** w= 430y1+460y2+420y3"
   ]
  },
  {
   "cell_type": "code",
   "execution_count": 21,
   "id": "6f54fc24",
   "metadata": {},
   "outputs": [],
   "source": [
    "w=[430, 460, 420]"
   ]
  },
  {
   "cell_type": "markdown",
   "id": "e23c0a7a",
   "metadata": {},
   "source": [
    "**Restricciones:**\n",
    "\n",
    "    *  y1+3y2+y3 >=3\n",
    "    *  2y1   +4y3>=2\n",
    "    *  y1+2y2    >=5\n",
    "    *  y1+y2+y3>=0 "
   ]
  },
  {
   "cell_type": "markdown",
   "id": "fe7ce4f3",
   "metadata": {},
   "source": [
    "*Desiguldades*"
   ]
  },
  {
   "cell_type": "code",
   "execution_count": 22,
   "id": "61857468",
   "metadata": {},
   "outputs": [],
   "source": [
    "A_ub=[[-1,-3,-1],[-2,0,-4],[-1,-2,0]]"
   ]
  },
  {
   "cell_type": "markdown",
   "id": "d61af5cb",
   "metadata": {},
   "source": [
    "*Vector solución*"
   ]
  },
  {
   "cell_type": "code",
   "execution_count": 23,
   "id": "7bbdfa71",
   "metadata": {},
   "outputs": [],
   "source": [
    "b_ub=[-3,-2,-5]"
   ]
  },
  {
   "cell_type": "markdown",
   "id": "6ff0038e",
   "metadata": {},
   "source": [
    "**Resolución de minimizar la función objetivo**"
   ]
  },
  {
   "cell_type": "code",
   "execution_count": 24,
   "id": "529861fd",
   "metadata": {},
   "outputs": [],
   "source": [
    "res2=linprog(w, A_ub, b_ub, bounds=(0, None)) # el de bounds hace que los valores vayan de 0 hasta infinito"
   ]
  },
  {
   "cell_type": "code",
   "execution_count": 25,
   "id": "9d59f625",
   "metadata": {},
   "outputs": [
    {
     "data": {
      "text/plain": [
       "     con: array([], dtype=float64)\n",
       "     fun: 1349.9999999836773\n",
       " message: 'Optimization terminated successfully.'\n",
       "     nit: 6\n",
       "   slack: array([ 4.00000000e+00,  2.13440821e-10, -1.72159176e-10])\n",
       "  status: 0\n",
       " success: True\n",
       "       x: array([1.00000000e+00, 2.00000000e+00, 9.64880527e-11])"
      ]
     },
     "execution_count": 25,
     "metadata": {},
     "output_type": "execute_result"
    }
   ],
   "source": [
    "res2"
   ]
  },
  {
   "cell_type": "code",
   "execution_count": 26,
   "id": "cfe694a7",
   "metadata": {},
   "outputs": [
    {
     "name": "stdout",
     "output_type": "stream",
     "text": [
      "Valor óptimo:  1349.9999999836773 \n",
      "Y:  [1.00000000e+00 2.00000000e+00 9.64880527e-11]\n"
     ]
    }
   ],
   "source": [
    "print(\"Valor óptimo: \", res2.fun, \"\\nY: \",res2.x)"
   ]
  },
  {
   "cell_type": "code",
   "execution_count": null,
   "id": "3fa8236b",
   "metadata": {},
   "outputs": [],
   "source": []
  }
 ],
 "metadata": {
  "kernelspec": {
   "display_name": "Python 3",
   "language": "python",
   "name": "python3"
  },
  "language_info": {
   "codemirror_mode": {
    "name": "ipython",
    "version": 3
   },
   "file_extension": ".py",
   "mimetype": "text/x-python",
   "name": "python",
   "nbconvert_exporter": "python",
   "pygments_lexer": "ipython3",
   "version": "3.8.10"
  }
 },
 "nbformat": 4,
 "nbformat_minor": 5
}
